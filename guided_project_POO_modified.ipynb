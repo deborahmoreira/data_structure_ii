{
  "cells": [
    {
      "cell_type": "markdown",
      "metadata": {
        "id": "BbNlkiA8dw2i"
      },
      "source": [
        "# Profitable App Profiles for the App Store and Google Play Markets\n",
        "\n",
        "This is a modified project. Here we work with classes, while the original proposal doesn't. The original is a final project for the course \"Python for Data Engineering: Fundamentals Part II\" on the [\"Data Engineer\"](https://www.dataquest.io/path/data-engineering/) learning path available on the [dataquest.io](https://www.dataquest.io/) platform. The original solution is available [here](https://github.com/dataquestio/solutions/blob/master/Mission350Solutions.ipynb). Attention: We repeat the same text parts, so you may find inconsistencies, for example, where says \"function\"  in the text and in the code you'll find a \"class\" instead.\n",
        "\n",
        "Our aim in this project is to find mobile app profiles that are profitable for the App Store and Google Play markets. We're working as data analysts for a company that builds Android and iOS mobile apps, and our job is to enable our team of developers to make data-driven decisions with respect to the kind of apps they build. \n",
        "\n",
        "At our company, we only build apps that are free to download and install, and our main source of revenue consists of in-app ads. This means that our revenue for any given app is mostly influenced by the number of users that use our app. Our goal for this project is to analyze data to help our developers understand what kinds of apps are likely to attract more users.\n",
        "\n",
        "## Opening and Exploring the Data\n",
        "\n",
        "As of September 2018, there were approximately 2 million iOS apps available on the App Store, and 2.1 million Android apps on Google Play.\n",
        "\n",
        "<center>\n",
        "![img](https://s3.amazonaws.com/dq-content/350/py1m8_statista.png)\n",
        "Source: [Statista](https://www.statista.com/statistics/276623/number-of-apps-available-in-leading-app-stores/)\n",
        "</center>\n",
        "\n",
        "Collecting data for over four million apps requires a significant amount of time and money, so we'll try to analyze a sample of data instead. To avoid spending resources with collecting new data ourselves, we should first try to see whether we can find any relevant existing data at no cost. Luckily, these are two data sets that seem suitable for our purpose:\n",
        "\n",
        "- [A data set](https://www.kaggle.com/lava18/google-play-store-apps) containing data about approximately ten thousand Android apps from Google Play. You can download the data set directly from [this link](https://dq-content.s3.amazonaws.com/350/googleplaystore.csv).\n",
        "- [A data set](https://www.kaggle.com/ramamet4/app-store-apple-data-set-10k-apps) containing data about approximately seven thousand iOS apps from the App Store. You can download the data set directly from [this link](https://dq-content.s3.amazonaws.com/350/AppleStore.csv).\n",
        "\n",
        "Let's start by opening the two data sets and then continue with exploring the data."
      ]
    },
    {
      "cell_type": "code",
      "execution_count": 1,
      "metadata": {
        "id": "g5xdxIaYdw2j"
      },
      "outputs": [],
      "source": [
        "from csv import reader\n",
        "\n",
        "class Dataset():\n",
        "  def __init__(self, filename):\n",
        "    opened_file = open(filename)\n",
        "    read_file = reader(opened_file)\n",
        "    dataset = list(read_file)\n",
        "    self.dataset = dataset\n",
        "\n",
        "  def explore_data(self, start, end, rows_and_columns=False):\n",
        "    dataset_slice = self.dataset[start:end]    \n",
        "    for row in dataset_slice:\n",
        "        print(row)\n",
        "        print('\\n') # adds a new (empty) line between rows\n",
        "        \n",
        "    if rows_and_columns:\n",
        "        print('Number of rows:', len(self.dataset[1:]))\n",
        "        print('Number of columns:', len(self.dataset[0]))\n",
        "  def check_duplicates(self):\n",
        "    duplicate_apps = []\n",
        "    unique_apps = []\n",
        "\n",
        "    for app in self.dataset[1:]:\n",
        "        name = app[0]\n",
        "        if name in unique_apps:\n",
        "            duplicate_apps.append(name)\n",
        "        else:\n",
        "            unique_apps.append(name)\n",
        "    return duplicate_apps, unique_apps\n",
        "\n",
        "  def clean_data(self, dictionary):\n",
        "    android_clean = []\n",
        "    already_added = []\n",
        "\n",
        "    for app in self.dataset[1:]:\n",
        "        name = app[0]\n",
        "        n_reviews = float(app[3])\n",
        "        \n",
        "        if (dictionary[name] == n_reviews) and (name not in already_added):\n",
        "            android_clean.append(app)\n",
        "            already_added.append(name) # make sure this is inside the if block\n",
        "    self.dataset[1:] = android_clean\n",
        "\n",
        "  def clean_english(self, index):\n",
        "    dataset_english = []\n",
        "    for app in self.dataset[1:]:\n",
        "        name = app[index]\n",
        "        if is_english(name):\n",
        "            dataset_english.append(app)\n",
        "    self.dataset[1:] = dataset_english\n",
        "  def clean_free(self, column):\n",
        "    dataset_free = []\n",
        "    for app in self.dataset[1:]:\n",
        "      price = app[column]\n",
        "      if price == '0' or price == '0.0':\n",
        "        dataset_free.append(app)\n",
        "    self.dataset[1:] = dataset_free\n",
        "  def freq_table(self, index):\n",
        "    table = {}\n",
        "    total = 0\n",
        "    for row in self.dataset[1:]:\n",
        "        total += 1\n",
        "        value = row[index]\n",
        "        if value in table:\n",
        "            table[value] += 1\n",
        "        else:\n",
        "            table[value] = 1\n",
        "    table_percentages = {}\n",
        "    for key in table:\n",
        "        percentage = (table[key] / total) * 100\n",
        "        table_percentages[key] = percentage \n",
        "    return table_percentages\n",
        "\n",
        "  def display_table(self, index):\n",
        "    table = self.freq_table(index)\n",
        "    table_display = []\n",
        "    for key in table:\n",
        "        key_val_as_tuple = (table[key], key)\n",
        "        table_display.append(key_val_as_tuple)\n",
        "    table_sorted = sorted(table_display, reverse = True)\n",
        "    for entry in table_sorted:\n",
        "        print(entry[1], ':', entry[0])\n"
      ]
    },
    {
      "cell_type": "code",
      "execution_count": 2,
      "metadata": {
        "id": "h22cRL40dw2p",
        "outputId": "4802c921-d96f-4608-bb42-cce4e5f7609c",
        "colab": {
          "base_uri": "https://localhost:8080/",
          "height": 305
        }
      },
      "outputs": [
        {
          "output_type": "error",
          "ename": "FileNotFoundError",
          "evalue": "ignored",
          "traceback": [
            "\u001b[0;31m---------------------------------------------------------------------------\u001b[0m",
            "\u001b[0;31mFileNotFoundError\u001b[0m                         Traceback (most recent call last)",
            "\u001b[0;32m<ipython-input-2-4ff2cf18e5c7>\u001b[0m in \u001b[0;36m<module>\u001b[0;34m\u001b[0m\n\u001b[0;32m----> 1\u001b[0;31m \u001b[0mandroid\u001b[0m \u001b[0;34m=\u001b[0m \u001b[0mDataset\u001b[0m\u001b[0;34m(\u001b[0m\u001b[0;34m'googleplaystore.csv'\u001b[0m\u001b[0;34m)\u001b[0m\u001b[0;34m\u001b[0m\u001b[0;34m\u001b[0m\u001b[0m\n\u001b[0m\u001b[1;32m      2\u001b[0m \u001b[0mios\u001b[0m \u001b[0;34m=\u001b[0m \u001b[0mDataset\u001b[0m\u001b[0;34m(\u001b[0m\u001b[0;34m'AppleStore.csv'\u001b[0m\u001b[0;34m)\u001b[0m\u001b[0;34m\u001b[0m\u001b[0;34m\u001b[0m\u001b[0m\n",
            "\u001b[0;32m<ipython-input-1-9a85f97b6522>\u001b[0m in \u001b[0;36m__init__\u001b[0;34m(self, filename)\u001b[0m\n\u001b[1;32m      3\u001b[0m \u001b[0;32mclass\u001b[0m \u001b[0mDataset\u001b[0m\u001b[0;34m(\u001b[0m\u001b[0;34m)\u001b[0m\u001b[0;34m:\u001b[0m\u001b[0;34m\u001b[0m\u001b[0;34m\u001b[0m\u001b[0m\n\u001b[1;32m      4\u001b[0m   \u001b[0;32mdef\u001b[0m \u001b[0m__init__\u001b[0m\u001b[0;34m(\u001b[0m\u001b[0mself\u001b[0m\u001b[0;34m,\u001b[0m \u001b[0mfilename\u001b[0m\u001b[0;34m)\u001b[0m\u001b[0;34m:\u001b[0m\u001b[0;34m\u001b[0m\u001b[0;34m\u001b[0m\u001b[0m\n\u001b[0;32m----> 5\u001b[0;31m     \u001b[0mopened_file\u001b[0m \u001b[0;34m=\u001b[0m \u001b[0mopen\u001b[0m\u001b[0;34m(\u001b[0m\u001b[0mfilename\u001b[0m\u001b[0;34m)\u001b[0m\u001b[0;34m\u001b[0m\u001b[0;34m\u001b[0m\u001b[0m\n\u001b[0m\u001b[1;32m      6\u001b[0m     \u001b[0mread_file\u001b[0m \u001b[0;34m=\u001b[0m \u001b[0mreader\u001b[0m\u001b[0;34m(\u001b[0m\u001b[0mopened_file\u001b[0m\u001b[0;34m)\u001b[0m\u001b[0;34m\u001b[0m\u001b[0;34m\u001b[0m\u001b[0m\n\u001b[1;32m      7\u001b[0m     \u001b[0mdataset\u001b[0m \u001b[0;34m=\u001b[0m \u001b[0mlist\u001b[0m\u001b[0;34m(\u001b[0m\u001b[0mread_file\u001b[0m\u001b[0;34m)\u001b[0m\u001b[0;34m\u001b[0m\u001b[0;34m\u001b[0m\u001b[0m\n",
            "\u001b[0;31mFileNotFoundError\u001b[0m: [Errno 2] No such file or directory: 'googleplaystore.csv'"
          ]
        }
      ],
      "source": [
        "android = Dataset('googleplaystore.csv')\n",
        "ios = Dataset('AppleStore.csv')"
      ]
    },
    {
      "cell_type": "code",
      "source": [
        "print(android.explore_data(0,3,True))"
      ],
      "metadata": {
        "id": "ghXK_CdbSppd"
      },
      "execution_count": null,
      "outputs": []
    },
    {
      "cell_type": "code",
      "source": [
        "print(ios.explore_data(0,3,True))"
      ],
      "metadata": {
        "id": "nvaJRD_hSyQT"
      },
      "execution_count": null,
      "outputs": []
    },
    {
      "cell_type": "markdown",
      "metadata": {
        "id": "4nJCxwvydw22"
      },
      "source": [
        "## Deleting Wrong Data\n",
        "\n",
        "The Google Play data set has a dedicated [discussion section](https://www.kaggle.com/lava18/google-play-store-apps/discussion), and we can see that [one of the discussions](https://www.kaggle.com/lava18/google-play-store-apps/discussion/66015) outlines an error for row 10472. Let's print this row and compare it against the header and another row that is correct."
      ]
    },
    {
      "cell_type": "code",
      "execution_count": null,
      "metadata": {
        "id": "cJxTPUn2dw23"
      },
      "outputs": [],
      "source": [
        "print(android.dataset[10473])  # incorrect row\n",
        "print('\\n')\n",
        "print(android.dataset[0])  # header\n",
        "print('\\n')\n",
        "print(android.dataset[1])  # correct row"
      ]
    },
    {
      "cell_type": "markdown",
      "metadata": {
        "id": "quFWJnigdw2_"
      },
      "source": [
        "The row 10472 corresponds to the app _Life Made WI-Fi Touchscreen Photo Frame_, and we can see that the rating is 19. This is clearly off because the maximum rating for a Google Play app is 5 (as mentioned in the [discussions section](https://www.kaggle.com/lava18/google-play-store-apps/discussion/66015), this problem is caused by a missing value in the `'Category'` column). As a consequence, we'll delete this row. "
      ]
    },
    {
      "cell_type": "code",
      "execution_count": null,
      "metadata": {
        "id": "qjH4wG67dw3B"
      },
      "outputs": [],
      "source": [
        "print(len(android.dataset))\n",
        "del android.dataset[10472]  # don't run this more than once\n",
        "print(len(android.dataset))"
      ]
    },
    {
      "cell_type": "markdown",
      "metadata": {
        "id": "dE2D3beidw3G"
      },
      "source": [
        "## Removing Duplicate Entries\n",
        "\n",
        "### Part One\n",
        "If we explore the Google Play data set long enough, we'll find that some apps have more than one entry. For instance, the application Instagram has four entries:"
      ]
    },
    {
      "cell_type": "code",
      "execution_count": null,
      "metadata": {
        "id": "EqXZrUdNdw3G"
      },
      "outputs": [],
      "source": [
        "for app in android.dataset[1:]:\n",
        "    name = app[0]\n",
        "    if name == 'Instagram':\n",
        "        print(app)"
      ]
    },
    {
      "cell_type": "markdown",
      "metadata": {
        "id": "c2GlTsJedw3L"
      },
      "source": [
        "In total, there are 1,181 cases where an app occurs more than once:"
      ]
    },
    {
      "cell_type": "code",
      "execution_count": null,
      "metadata": {
        "id": "BDUzP8jRdw3M"
      },
      "outputs": [],
      "source": [
        "duplicate, unique = android.check_duplicates()\n",
        "print('Number of duplicate apps:', len(duplicate))\n",
        "print('\\n')\n",
        "print('Examples of duplicate apps:', duplicate[:15])"
      ]
    },
    {
      "cell_type": "markdown",
      "metadata": {
        "id": "xnPJT7Xmdw3R"
      },
      "source": [
        "We don't want to count certain apps more than once when we analyze data, so we need to remove the duplicate entries and keep only one entry per app. One thing we could do is remove the duplicate rows randomly, but we could probably find a better way.\n",
        "\n",
        "If you examine the rows we printed two cells above for the Instagram app, the main difference happens on the fourth position of each row, which corresponds to the number of reviews. The different numbers show that the data was collected at different times. We can use this to build a criterion for keeping rows. We won't remove rows randomly, but rather we'll keep the rows that have the highest number of reviews because the higher the number of reviews, the more reliable the ratings.\n",
        "\n",
        "To do that, we will:\n",
        "\n",
        "- Create a dictionary where each key is a unique app name, and the value is the highest number of reviews of that app\n",
        "- Use the dictionary to create a new data set, which will have only one entry per app (and we only select the apps with the highest number of reviews)\n",
        "\n",
        "### Part Two\n",
        "\n",
        "Let's start by building the dictionary."
      ]
    },
    {
      "cell_type": "code",
      "execution_count": null,
      "metadata": {
        "id": "TYBPi8d9dw3T"
      },
      "outputs": [],
      "source": [
        "reviews_max = {}\n",
        "\n",
        "for app in android.dataset[1:]:\n",
        "    name = app[0]\n",
        "    n_reviews = float(app[3])\n",
        "    \n",
        "    if name in reviews_max and reviews_max[name] < n_reviews:\n",
        "        reviews_max[name] = n_reviews\n",
        "        \n",
        "    elif name not in reviews_max:\n",
        "        reviews_max[name] = n_reviews"
      ]
    },
    {
      "cell_type": "markdown",
      "metadata": {
        "id": "r_T5VYoIdw3V"
      },
      "source": [
        "In a previous code cell, we found that there are 1,181 cases where an app occurs more than once, so the length of our dictionary (of unique apps) should be equal to the difference between the length of our data set and 1,181."
      ]
    },
    {
      "cell_type": "code",
      "execution_count": null,
      "metadata": {
        "id": "wtGBkHKBdw3V"
      },
      "outputs": [],
      "source": [
        "print('Expected length:', len(android.dataset[1:]) - 1181)\n",
        "print('Actual length:', len(reviews_max))"
      ]
    },
    {
      "cell_type": "markdown",
      "metadata": {
        "id": "d27SheWrdw3Z"
      },
      "source": [
        "Now, let's use the `reviews_max` dictionary to remove the duplicates. For the duplicate cases, we'll only keep the entries with the highest number of reviews. In the code cell below:\n",
        "\n",
        "- We start by initializing two empty lists, `android_clean` and `already_added`.\n",
        "- We loop through the `android` data set, and for every iteration:\n",
        "    - We isolate the name of the app and the number of reviews.\n",
        "    - We add the current row (`app`) to the `android_clean` list, and the app name (`name`) to the `already_added` list if:\n",
        "        - The number of reviews of the current app matches the number of reviews of that app as described in the `reviews_max` dictionary; and\n",
        "        - The name of the app is not already in the `already_added` list. We need to add this supplementary condition to account for those cases where the highest number of reviews of a duplicate app is the same for more than one entry (for example, the Box app has three entries, and the number of reviews is the same). If we just check for `reviews_max[name] == n_reviews`, we'll still end up with duplicate entries for some apps."
      ]
    },
    {
      "cell_type": "code",
      "execution_count": null,
      "metadata": {
        "id": "pRuxSg3Ddw3Z"
      },
      "outputs": [],
      "source": [
        "android.clean_data(reviews_max)"
      ]
    },
    {
      "cell_type": "markdown",
      "metadata": {
        "id": "KCyBLNlBdw3c"
      },
      "source": [
        "Now let's quickly explore the new data set, and confirm that the number of rows is 9,659."
      ]
    },
    {
      "cell_type": "code",
      "execution_count": null,
      "metadata": {
        "id": "8xMT6nWtdw3c"
      },
      "outputs": [],
      "source": [
        "print(android.explore_data(0,3,True))"
      ]
    },
    {
      "cell_type": "markdown",
      "metadata": {
        "id": "JcdI8lpbdw3g"
      },
      "source": [
        "We have 9659 rows, just as expected.\n",
        "\n",
        "## Removing Non-English Apps\n",
        "\n",
        "### Part One\n",
        "\n",
        "If you explore the data sets enough, you'll notice the names of some of the apps suggest they are not directed toward an English-speaking audience. Below, we see a couple of examples from both data sets:"
      ]
    },
    {
      "cell_type": "code",
      "execution_count": null,
      "metadata": {
        "id": "mh8pNstMdw3h"
      },
      "outputs": [],
      "source": [
        "print(ios.dataset[814][1])\n",
        "print(ios.dataset[6732][1])\n",
        "\n",
        "print(android.dataset[4413][0])\n",
        "print(android.dataset[7941][0])"
      ]
    },
    {
      "cell_type": "markdown",
      "metadata": {
        "id": "KRvDytrbdw3m"
      },
      "source": [
        "We're not interested in keeping these kind of apps, so we'll remove them. One way to go about this is to remove each app whose name contains a symbol that is not commonly used in English text — English text usually includes letters from the English alphabet, numbers composed of digits from 0 to 9, punctuation marks (., !, ?, ;, etc.), and other symbols (+, *, /, etc.).\n",
        "\n",
        "All these characters that are specific to English texts are encoded using the ASCII standard. Each ASCII character has a corresponding number between 0 and 127 associated with it, and we can take advantage of that to build a function that checks an app name and tells us whether it contains non-ASCII characters.\n",
        "\n",
        "We built this function below, and we use the built-in `ord()` function to find out the corresponding encoding number of each character."
      ]
    },
    {
      "cell_type": "code",
      "execution_count": null,
      "metadata": {
        "id": "AJ2xPuuDdw3n"
      },
      "outputs": [],
      "source": [
        "def is_english(string):\n",
        "    for character in string:\n",
        "        if ord(character) > 127:\n",
        "            return False\n",
        "    \n",
        "    return True\n",
        "\n",
        "print(is_english('Instagram'))\n",
        "print(is_english('爱奇艺PPS -《欢乐颂2》电视剧热播'))"
      ]
    },
    {
      "cell_type": "markdown",
      "metadata": {
        "id": "ghq_QFtbdw3q"
      },
      "source": [
        "The function seems to work fine, but some English app names use emojis or other symbols (™, — (em dash), – (en dash), etc.) that fall outside of the ASCII range. Because of this, we'll remove useful apps if we use the function in its current form."
      ]
    },
    {
      "cell_type": "code",
      "execution_count": null,
      "metadata": {
        "id": "9n57U2gSdw3s"
      },
      "outputs": [],
      "source": [
        "print(is_english('Docs To Go™ Free Office Suite'))\n",
        "print(is_english('Instachat 😜'))\n",
        "\n",
        "print(ord('™'))\n",
        "print(ord('😜'))"
      ]
    },
    {
      "cell_type": "markdown",
      "metadata": {
        "id": "5n_pvR_vdw3x"
      },
      "source": [
        "### Part Two\n",
        "\n",
        "To minimize the impact of data loss, we'll only remove an app if its name has more than three non-ASCII characters:"
      ]
    },
    {
      "cell_type": "code",
      "execution_count": null,
      "metadata": {
        "id": "moN9tdiQdw3x"
      },
      "outputs": [],
      "source": [
        "def is_english(string):\n",
        "    non_ascii = 0\n",
        "    \n",
        "    for character in string:\n",
        "        if ord(character) > 127:\n",
        "            non_ascii += 1\n",
        "    \n",
        "    if non_ascii > 3:\n",
        "        return False\n",
        "    else:\n",
        "        return True\n",
        "\n",
        "print(is_english('Docs To Go™ Free Office Suite'))\n",
        "print(is_english('Instachat 😜'))"
      ]
    },
    {
      "cell_type": "markdown",
      "metadata": {
        "id": "Igmzo8IJdw31"
      },
      "source": [
        "The function is still not perfect, and very few non-English apps might get past our filter, but this seems good enough at this point in our analysis — we shouldn't spend too much time on optimization at this point.\n",
        "\n",
        "Below, we use the `is_english()` function to filter out the non-English apps for both data sets:"
      ]
    },
    {
      "cell_type": "code",
      "execution_count": null,
      "metadata": {
        "id": "sLb6Ncavdw32"
      },
      "outputs": [],
      "source": [
        "android.clean_english(0)\n",
        "print(android.explore_data(0,3,True))\n",
        "ios.clean_english(1)\n",
        "print(ios.explore_data(0,3,True))"
      ]
    },
    {
      "cell_type": "markdown",
      "metadata": {
        "id": "X1meBiKtdw36"
      },
      "source": [
        "We can see that we're left with 9614 Android apps and 6183 iOS apps.\n",
        "\n",
        "## Isolating the Free Apps\n",
        "\n",
        "As we mentioned in the introduction, we only build apps that are free to download and install, and our main source of revenue consists of in-app ads. Our data sets contain both free and non-free apps, and we'll need to isolate only the free apps for our analysis. Below, we isolate the free apps for both our data sets."
      ]
    },
    {
      "cell_type": "code",
      "execution_count": null,
      "metadata": {
        "id": "4TXBzJVwdw38"
      },
      "outputs": [],
      "source": [
        "android.clean_free(7)\n",
        "print(android.explore_data(0,3,True))"
      ]
    },
    {
      "cell_type": "code",
      "source": [
        "ios.clean_free(4)\n",
        "print(ios.explore_data(0,3,True))"
      ],
      "metadata": {
        "id": "PmouwiOTU4t8"
      },
      "execution_count": null,
      "outputs": []
    },
    {
      "cell_type": "markdown",
      "metadata": {
        "id": "wQhOlVV0dw3-"
      },
      "source": [
        "We're left with 8864 Android apps and 3222 iOS apps, which should be enough for our analysis.\n",
        "\n",
        "## Most Common Apps by Genre\n",
        "\n",
        "### Part One\n",
        "\n",
        "As we mentioned in the introduction, our aim is to determine the kinds of apps that are likely to attract more users because our revenue is highly influenced by the number of people using our apps.\n",
        "\n",
        "To minimize risks and overhead, our validation strategy for an app idea is comprised of three steps:\n",
        "\n",
        "1. Build a minimal Android version of the app, and add it to Google Play.\n",
        "2. If the app has a good response from users, we then develop it further.\n",
        "3. If the app is profitable after six months, we also build an iOS version of the app and add it to the App Store.\n",
        "\n",
        "Because our end goal is to add the app on both the App Store and Google Play, we need to find app profiles that are successful on both markets. For instance, a profile that might work well for both markets might be a productivity app that makes use of gamification.\n",
        "\n",
        "Let's begin the analysis by getting a sense of the most common genres for each market. For this, we'll build a frequency table for the `prime_genre` column of the App Store data set, and the `Genres` and `Category` columns of the Google Play data set.\n",
        "\n",
        "### Part Two\n",
        "\n",
        "We'll build two functions we can use to analyze the frequency tables:\n",
        "\n",
        "- One function to generate frequency tables that show percentages\n",
        "- Another function that we can use to display the percentages in a descending order"
      ]
    },
    {
      "cell_type": "markdown",
      "metadata": {
        "id": "nxHDmzy-dw4B"
      },
      "source": [
        "### Part Three\n",
        "\n",
        "We start by examining the frequency table for the `prime_genre` column of the App Store data set."
      ]
    },
    {
      "cell_type": "code",
      "execution_count": null,
      "metadata": {
        "id": "DdCoVYyndw4C"
      },
      "outputs": [],
      "source": [
        "ios.display_table(-5)"
      ]
    },
    {
      "cell_type": "markdown",
      "metadata": {
        "id": "PJ46gVj1dw4G"
      },
      "source": [
        "We can see that among the free English apps, more than a half (58.16%) are games. Entertainment apps are close to 8%, followed by photo and video apps, which are close to 5%. Only 3.66% of the apps are designed for education, followed by social networking apps which amount for 3.29% of the apps in our data set. \n",
        "\n",
        "The general impression is that App Store (at least the part containing free English apps) is dominated by apps that are designed for fun (games, entertainment, photo and video, social networking, sports, music, etc.), while apps with practical purposes (education, shopping, utilities, productivity, lifestyle, etc.) are more rare. However, the fact that fun apps are the most numerous doesn't also imply that they also have the greatest number of users — the demand might not be the same as the offer. \n",
        "\n",
        "Let's continue by examining the `Genres` and `Category` columns of the Google Play data set (two columns which seem to be related)."
      ]
    },
    {
      "cell_type": "code",
      "execution_count": null,
      "metadata": {
        "id": "OjWHtqPIdw4H"
      },
      "outputs": [],
      "source": [
        "android.display_table(1) # Category"
      ]
    },
    {
      "cell_type": "markdown",
      "metadata": {
        "id": "PJR2QdJqdw4J"
      },
      "source": [
        "The landscape seems significantly different on Google Play: there are not that many apps designed for fun, and it seems that a good number of apps are designed for practical purposes (family, tools, business, lifestyle, productivity, etc.). However, if we investigate this further, we can see that the family category (which accounts for almost 19% of the apps) means mostly games for kids.\n",
        "\n",
        "\n",
        "[![img](https://s3.amazonaws.com/dq-content/350/py1m8_family.png)](https://play.google.com/store/apps/category/FAMILY?hl=en)\n",
        "\n",
        "\n",
        "Even so, practical apps seem to have a better representation on Google Play compared to App Store. This picture is also confirmed by the frequency table we see for the `Genres` column:"
      ]
    },
    {
      "cell_type": "code",
      "execution_count": null,
      "metadata": {
        "id": "pra8hj7_dw4K"
      },
      "outputs": [],
      "source": [
        "android.display_table(-4)"
      ]
    },
    {
      "cell_type": "markdown",
      "metadata": {
        "id": "k7x0Mwv_dw4N"
      },
      "source": [
        "The difference between the `Genres` and the `Category` columns is not crystal clear, but one thing we can notice is that the `Genres` column is much more granular (it has more categories). We're only looking for the bigger picture at the moment, so we'll only work with the `Category` column moving forward.\n",
        "\n",
        "Up to this point, we found that the App Store is dominated by apps designed for fun, while Google Play shows a more balanced landscape of both practical and for-fun apps. Now we'd like to get an idea about the kind of apps that have most users.\n",
        "\n",
        "## Most Popular Apps by Genre on the App Store\n",
        "\n",
        "One way to find out what genres are the most popular (have the most users) is to calculate the average number of installs for each app genre. For the Google Play data set, we can find this information in the `Installs` column, but for the App Store data set this information is missing. As a workaround, we'll take the total number of user ratings as a proxy, which we can find in the `rating_count_tot` app."
      ]
    },
    {
      "cell_type": "markdown",
      "metadata": {
        "id": "ET9Gx6Sadw4O"
      },
      "source": [
        "Below, we calculate the average number of user ratings per app genre on the App Store:"
      ]
    },
    {
      "cell_type": "code",
      "execution_count": null,
      "metadata": {
        "id": "J_5ACupHdw4T"
      },
      "outputs": [],
      "source": [
        "genres_ios = ios.freq_table(-5)\n",
        "\n",
        "for genre in genres_ios:\n",
        "    total = 0\n",
        "    len_genre = 0\n",
        "    for app in ios.dataset[1:]:\n",
        "        genre_app = app[-5]\n",
        "        if genre_app == genre:            \n",
        "            n_ratings = float(app[5])\n",
        "            total += n_ratings\n",
        "            len_genre += 1\n",
        "    avg_n_ratings = total / len_genre\n",
        "    print(genre, ':', avg_n_ratings)"
      ]
    },
    {
      "cell_type": "markdown",
      "metadata": {
        "id": "SwA1S8Uadw4X"
      },
      "source": [
        "On average, navigation apps have the highest number of user reviews, but this figure is heavily influenced by Waze and Google Maps, which have close to half a million user reviews together:"
      ]
    },
    {
      "cell_type": "code",
      "execution_count": null,
      "metadata": {
        "id": "rdNDNVbVdw4X"
      },
      "outputs": [],
      "source": [
        "for app in ios.dataset[1:]:\n",
        "    if app[-5] == 'Navigation':\n",
        "        print(app[1], ':', app[5]) # print name and number of ratings"
      ]
    },
    {
      "cell_type": "markdown",
      "metadata": {
        "id": "55kQqN_qdw4Z"
      },
      "source": [
        "The same pattern applies to social networking apps, where the average number is heavily influenced by a few giants like Facebook, Pinterest, Skype, etc. Same applies to music apps, where a few big players like Pandora, Spotify, and Shazam heavily influence the average number.\n",
        "\n",
        "Our aim is to find popular genres, but navigation, social networking or music apps might seem more popular than they really are. The average number of ratings seem to be skewed by very few apps which have hundreds of thousands of user ratings, while the other apps may struggle to get past the 10,000 threshold. We could get a better picture by removing these extremely popular apps for each genre and then rework the averages, but we'll leave this level of detail for later.\n",
        "\n",
        "Reference apps have 74,942 user ratings on average, but it's actually the Bible and Dictionary.com which skew up the average rating:"
      ]
    },
    {
      "cell_type": "code",
      "execution_count": null,
      "metadata": {
        "id": "T2H7TxY6dw4a"
      },
      "outputs": [],
      "source": [
        "for app in ios.dataset[1:]:\n",
        "    if app[-5] == 'Reference':\n",
        "        print(app[1], ':', app[5])"
      ]
    },
    {
      "cell_type": "markdown",
      "metadata": {
        "id": "RClnbNGSdw4d"
      },
      "source": [
        "However, this niche seems to show some potential. One thing we could do is take another popular book and turn it into an app where we could add different features besides the raw version of the book. This might include daily quotes from the book, an audio version of the book, quizzes about the book, etc. On top of that, we could also embed a dictionary within the app, so users don't need to exit our app to look up words in an external app.\n",
        "\n",
        "This idea seems to fit well with the fact that the App Store is dominated by for-fun apps. This suggests the market might be a bit saturated with for-fun apps, which means a practical app might have more of a chance to stand out among the huge number of apps on the App Store.\n",
        "\n",
        "Other genres that seem popular include weather, book, food and drink, or finance. The book genre seem to overlap a bit with the app idea we described above, but the other genres don't seem too interesting to us:\n",
        "\n",
        "- Weather apps — people generally don't spend too much time in-app, and the chances of making profit from in-app adds are low. Also, getting reliable live weather data may require us to connect our apps to non-free APIs.\n",
        "\n",
        "- Food and drink — examples here include Starbucks, Dunkin' Donuts, McDonald's, etc. So making a popular food and drink app requires actual cooking and a delivery service, which is outside the scope of our company.\n",
        "\n",
        "- Finance apps — these apps involve banking, paying bills, money transfer, etc. Building a finance app requires domain knowledge, and we don't want to hire a finance expert just to build an app.\n",
        "\n",
        "Now let's analyze the Google Play market a bit.\n",
        "\n",
        "## Most Popular Apps by Genre on Google Play\n",
        "\n",
        "For the Google Play market, we actually have data about the number of installs, so we should be able to get a clearer picture about genre popularity. However, the install numbers don't seem precise enough — we can see that most values are open-ended (100+, 1,000+, 5,000+, etc.):"
      ]
    },
    {
      "cell_type": "code",
      "execution_count": null,
      "metadata": {
        "id": "k9XN-3Oxdw4e"
      },
      "outputs": [],
      "source": [
        "android.display_table(5) # the Installs columns"
      ]
    },
    {
      "cell_type": "markdown",
      "metadata": {
        "id": "MS8oEkvcdw4g"
      },
      "source": [
        "One problem with this data is that is not precise. For instance, we don't know whether an app with 100,000+ installs has 100,000 installs, 200,000, or 350,000. However, we don't need very precise data for our purposes — we only want to get an idea which app genres attract the most users, and we don't need perfect precision with respect to the number of users.\n",
        "\n",
        "We're going to leave the numbers as they are, which means that we'll consider that an app with 100,000+ installs has 100,000 installs, and an app with 1,000,000+ installs has 1,000,000 installs, and so on.\n",
        "\n",
        "To perform computations, however, we'll need to convert each install number to `float` — this means that we need to remove the commas and the plus characters, otherwise the conversion will fail and raise an error. We'll do this directly in the loop below, where we also compute the average number of installs for each genre (category)."
      ]
    },
    {
      "cell_type": "code",
      "execution_count": null,
      "metadata": {
        "id": "qLmoJbd_dw4h"
      },
      "outputs": [],
      "source": [
        "categories_android = android.freq_table(1)\n",
        "\n",
        "for category in categories_android:\n",
        "    total = 0\n",
        "    len_category = 0\n",
        "    for app in android.dataset[1:]:\n",
        "        category_app = app[1]\n",
        "        if category_app == category:            \n",
        "            n_installs = app[5]\n",
        "            n_installs = n_installs.replace(',', '')\n",
        "            n_installs = n_installs.replace('+', '')\n",
        "            total += float(n_installs)\n",
        "            len_category += 1\n",
        "    avg_n_installs = total / len_category\n",
        "    print(category, ':', avg_n_installs)"
      ]
    },
    {
      "cell_type": "markdown",
      "metadata": {
        "id": "jmJZ_ZNAdw4m"
      },
      "source": [
        "On average, communication apps have the most installs: 38,456,119. This number is heavily skewed up by a few apps that have over one billion installs (WhatsApp, Facebook Messenger, Skype, Google Chrome, Gmail, and Hangouts), and a few others with over 100 and 500 million installs:"
      ]
    },
    {
      "cell_type": "code",
      "execution_count": null,
      "metadata": {
        "id": "yDgqLB3xdw4p"
      },
      "outputs": [],
      "source": [
        "for app in android.dataset[1:]:\n",
        "    if app[1] == 'COMMUNICATION' and (app[5] == '1,000,000,000+'\n",
        "                                      or app[5] == '500,000,000+'\n",
        "                                      or app[5] == '100,000,000+'):\n",
        "        print(app[0], ':', app[5])"
      ]
    },
    {
      "cell_type": "markdown",
      "metadata": {
        "id": "GkB0Ewlsdw47"
      },
      "source": [
        "If we removed all the communication apps that have over 100 million installs, the average would be reduced roughly ten times:"
      ]
    },
    {
      "cell_type": "code",
      "execution_count": null,
      "metadata": {
        "id": "GVS8X24bdw48"
      },
      "outputs": [],
      "source": [
        "under_100_m = []\n",
        "\n",
        "for app in android.dataset[1:]:\n",
        "    n_installs = app[5]\n",
        "    n_installs = n_installs.replace(',', '')\n",
        "    n_installs = n_installs.replace('+', '')\n",
        "    if (app[1] == 'COMMUNICATION') and (float(n_installs) < 100000000):\n",
        "        under_100_m.append(float(n_installs))\n",
        "        \n",
        "sum(under_100_m) / len(under_100_m)"
      ]
    },
    {
      "cell_type": "markdown",
      "metadata": {
        "id": "VGf0n6cydw5A"
      },
      "source": [
        "We see the same pattern for the video players category, which is the runner-up with 24,727,872 installs. The market is dominated by apps like Youtube, Google Play Movies & TV, or MX Player. The pattern is repeated for social apps (where we have giants like Facebook, Instagram, Google+, etc.), photography apps (Google Photos and other popular photo editors), or productivity apps (Microsoft Word, Dropbox, Google Calendar, Evernote, etc.).\n",
        "\n",
        "Again, the main concern is that these app genres might seem more popular than they really are. Moreover, these niches seem to be dominated by a few giants who are hard to compete against.\n",
        "\n",
        "The game genre seems pretty popular, but previously we found out this part of the market seems a bit saturated, so we'd like to come up with a different app recommendation if possible.\n",
        "\n",
        "The books and reference genre looks fairly popular as well, with an average number of installs of 8,767,811. It's interesting to explore this in more depth, since we found this genre has some potential to work well on the App Store, and our aim is to recommend an app genre that shows potential for being profitable on both the App Store and Google Play. \n",
        "\n",
        "Let's take a look at some of the apps from this genre and their number of installs:"
      ]
    },
    {
      "cell_type": "code",
      "execution_count": null,
      "metadata": {
        "id": "EsjrE2Nudw5B"
      },
      "outputs": [],
      "source": [
        "for app in android.dataset[1:]:\n",
        "    if app[1] == 'BOOKS_AND_REFERENCE':\n",
        "        print(app[0], ':', app[5])"
      ]
    },
    {
      "cell_type": "markdown",
      "metadata": {
        "id": "j4vZcL-Udw5G"
      },
      "source": [
        "The book and reference genre includes a variety of apps: software for processing and reading ebooks, various collections of libraries, dictionaries, tutorials on programming or languages, etc. It seems there's still a small number of extremely popular apps that skew the average:"
      ]
    },
    {
      "cell_type": "code",
      "execution_count": null,
      "metadata": {
        "id": "sPYrMGhKdw5H"
      },
      "outputs": [],
      "source": [
        "for app in android.dataset[1:]:\n",
        "    if app[1] == 'BOOKS_AND_REFERENCE' and (app[5] == '1,000,000,000+'\n",
        "                                            or app[5] == '500,000,000+'\n",
        "                                            or app[5] == '100,000,000+'):\n",
        "        print(app[0], ':', app[5])"
      ]
    },
    {
      "cell_type": "markdown",
      "metadata": {
        "id": "jGuGD7ODdw5K"
      },
      "source": [
        "However, it looks like there are only a few very popular apps, so this market still shows potential. Let's try to get some app ideas based on the kind of apps that are somewhere in the middle in terms of popularity (between 1,000,000 and 100,000,000 downloads):"
      ]
    },
    {
      "cell_type": "code",
      "execution_count": null,
      "metadata": {
        "id": "s9pL6QCddw5K"
      },
      "outputs": [],
      "source": [
        "for app in android.dataset[1:]:\n",
        "    if app[1] == 'BOOKS_AND_REFERENCE' and (app[5] == '1,000,000+'\n",
        "                                            or app[5] == '5,000,000+'\n",
        "                                            or app[5] == '10,000,000+'\n",
        "                                            or app[5] == '50,000,000+'):\n",
        "        print(app[0], ':', app[5])"
      ]
    },
    {
      "cell_type": "markdown",
      "metadata": {
        "id": "MnArt0Mbdw5M"
      },
      "source": [
        "This niche seems to be dominated by software for processing and reading ebooks, as well as various collections of libraries and dictionaries, so it's probably not a good idea to build similar apps since there'll be some significant competition.\n",
        "\n",
        "We also notice there are quite a few apps built around the book Quran, which suggests that building an app around a popular book can be profitable. It seems that taking a popular book (perhaps a more recent book) and turning it into an app could be profitable for both the Google Play and the App Store markets.\n",
        "\n",
        "However, it looks like the market is already full of libraries, so we need to add some special features besides the raw version of the book. This might include daily quotes from the book, an audio version of the book, quizzes on the book, a forum where people can discuss the book, etc.\n",
        "\n",
        "\n",
        "## Conclusions\n",
        "\n",
        "In this project, we analyzed data about the App Store and Google Play mobile apps with the goal of recommending an app profile that can be profitable for both markets.\n",
        "\n",
        "We concluded that taking a popular book (perhaps a more recent book) and turning it into an app could be profitable for both the Google Play and the App Store markets. The markets are already full of libraries, so we need to add some special features besides the raw version of the book. This might include daily quotes from the book, an audio version of the book, quizzes on the book, a forum where people can discuss the book, etc."
      ]
    }
  ],
  "metadata": {
    "colab": {
      "collapsed_sections": [
        "nxHDmzy-dw4B"
      ],
      "provenance": []
    },
    "kernelspec": {
      "display_name": "Python 3",
      "language": "python",
      "name": "python3"
    },
    "language_info": {
      "codemirror_mode": {
        "name": "ipython",
        "version": 3
      },
      "file_extension": ".py",
      "mimetype": "text/x-python",
      "name": "python",
      "nbconvert_exporter": "python",
      "pygments_lexer": "ipython3",
      "version": "3.8.2"
    }
  },
  "nbformat": 4,
  "nbformat_minor": 0
}